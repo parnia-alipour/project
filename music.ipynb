{
 "cells": [
  {
   "metadata": {},
   "cell_type": "markdown",
   "source": "# Random Forest",
   "id": "a51480f98dde431d"
  },
  {
   "metadata": {},
   "cell_type": "markdown",
   "source": [
    "\n",
    " این پروژه برای تشخیص سبک موسیقی از روی داده‌های صوتی طراحی شده . هدف  کمک به شناسایی سبک موسیقی در حال پخش هست، که در توسعه‌ی برنامه‌هایی مانند اسپاتیفای یا سایر اپلیکیشن‌های مرتبط با موسیقی بسیار کاربردی هستش.\n",
    "\n",
    "This project is designed to identify the musical genre based on audio data, helping detect the style of music being performed."
   ],
   "id": "9cb9b17bce11ec56"
  },
  {
   "cell_type": "code",
   "id": "initial_id",
   "metadata": {
    "collapsed": true,
    "ExecuteTime": {
     "end_time": "2025-10-09T05:28:11.754784Z",
     "start_time": "2025-10-09T05:28:11.737280Z"
    }
   },
   "source": [
    "import pandas as pd\n",
    "import numpy as np\n",
    "import matplotlib.pyplot as plt"
   ],
   "outputs": [],
   "execution_count": 19
  },
  {
   "metadata": {},
   "cell_type": "markdown",
   "source": [
    "\n",
    "\n",
    "فایل رو صدا میزنیم حتما فایل باید در مسیر پروژتون باشه\n",
    "\n",
    "\n",
    "We call the file. The file must be in your project path."
   ],
   "id": "1e3e9612ba4f0489"
  },
  {
   "metadata": {},
   "cell_type": "markdown",
   "source": [
    "\n",
    "دیتا از:\n",
    "https://www.kaggle.com/datasets/andradaolteanu/gtzan-dataset-music-genre-classification/data\n",
    "~~~Data"
   ],
   "id": "556a88532bcc2bea"
  },
  {
   "metadata": {
    "ExecuteTime": {
     "end_time": "2025-10-09T05:28:11.819884Z",
     "start_time": "2025-10-09T05:28:11.773942Z"
    }
   },
   "cell_type": "code",
   "source": [
    "file=pd.read_csv('features_30_sec.csv')\n",
    "file[:5]"
   ],
   "id": "8a4717597becb195",
   "outputs": [
    {
     "data": {
      "text/plain": [
       "   label  length  chroma_stft_mean  chroma_stft_var  rms_mean   rms_var  \\\n",
       "0  blues  661794          0.350088         0.088757  0.130228  0.002827   \n",
       "1  blues  661794          0.340914         0.094980  0.095948  0.002373   \n",
       "2  blues  661794          0.363637         0.085275  0.175570  0.002746   \n",
       "3  blues  661794          0.404785         0.093999  0.141093  0.006346   \n",
       "4  blues  661794          0.308526         0.087841  0.091529  0.002303   \n",
       "\n",
       "   spectral_centroid_mean  spectral_centroid_var  spectral_bandwidth_mean  \\\n",
       "0             1784.165850            129774.0645              2002.449060   \n",
       "1             1530.176679            375850.0736              2039.036516   \n",
       "2             1552.811865            156467.6434              1747.702312   \n",
       "3             1070.106615            184355.9424              1596.412872   \n",
       "4             1835.004266            343399.9393              1748.172116   \n",
       "\n",
       "   spectral_bandwidth_var  ...  mfcc16_mean  mfcc16_var  mfcc17_mean  \\\n",
       "0             85882.76132  ...     0.752740   52.420910    -1.690215   \n",
       "1            213843.75550  ...     0.927998   55.356403    -0.731125   \n",
       "2             76254.19226  ...     2.451690   40.598766    -7.729093   \n",
       "3            166441.49480  ...     0.780874   44.427753    -3.319597   \n",
       "4             88445.20904  ...    -4.520576   86.099236    -5.454034   \n",
       "\n",
       "   mfcc17_var  mfcc18_mean  mfcc18_var  mfcc19_mean  mfcc19_var  mfcc20_mean  \\\n",
       "0   36.524071    -0.408979   41.597103    -2.303523   55.062923     1.221291   \n",
       "1   60.314529     0.295073   48.120598    -0.283518   51.106190     0.531217   \n",
       "2   47.639427    -1.816407   52.382141    -3.439720   46.639660    -2.231258   \n",
       "3   50.206673     0.636965   37.319130    -0.619121   37.259739    -3.407448   \n",
       "4   75.269707    -0.916874   53.613918    -4.404827   62.910812   -11.703234   \n",
       "\n",
       "   mfcc20_var  \n",
       "0   46.936035  \n",
       "1   45.786282  \n",
       "2   30.573025  \n",
       "3   31.949339  \n",
       "4   55.195160  \n",
       "\n",
       "[5 rows x 59 columns]"
      ],
      "text/html": [
       "<div>\n",
       "<style scoped>\n",
       "    .dataframe tbody tr th:only-of-type {\n",
       "        vertical-align: middle;\n",
       "    }\n",
       "\n",
       "    .dataframe tbody tr th {\n",
       "        vertical-align: top;\n",
       "    }\n",
       "\n",
       "    .dataframe thead th {\n",
       "        text-align: right;\n",
       "    }\n",
       "</style>\n",
       "<table border=\"1\" class=\"dataframe\">\n",
       "  <thead>\n",
       "    <tr style=\"text-align: right;\">\n",
       "      <th></th>\n",
       "      <th>label</th>\n",
       "      <th>length</th>\n",
       "      <th>chroma_stft_mean</th>\n",
       "      <th>chroma_stft_var</th>\n",
       "      <th>rms_mean</th>\n",
       "      <th>rms_var</th>\n",
       "      <th>spectral_centroid_mean</th>\n",
       "      <th>spectral_centroid_var</th>\n",
       "      <th>spectral_bandwidth_mean</th>\n",
       "      <th>spectral_bandwidth_var</th>\n",
       "      <th>...</th>\n",
       "      <th>mfcc16_mean</th>\n",
       "      <th>mfcc16_var</th>\n",
       "      <th>mfcc17_mean</th>\n",
       "      <th>mfcc17_var</th>\n",
       "      <th>mfcc18_mean</th>\n",
       "      <th>mfcc18_var</th>\n",
       "      <th>mfcc19_mean</th>\n",
       "      <th>mfcc19_var</th>\n",
       "      <th>mfcc20_mean</th>\n",
       "      <th>mfcc20_var</th>\n",
       "    </tr>\n",
       "  </thead>\n",
       "  <tbody>\n",
       "    <tr>\n",
       "      <th>0</th>\n",
       "      <td>blues</td>\n",
       "      <td>661794</td>\n",
       "      <td>0.350088</td>\n",
       "      <td>0.088757</td>\n",
       "      <td>0.130228</td>\n",
       "      <td>0.002827</td>\n",
       "      <td>1784.165850</td>\n",
       "      <td>129774.0645</td>\n",
       "      <td>2002.449060</td>\n",
       "      <td>85882.76132</td>\n",
       "      <td>...</td>\n",
       "      <td>0.752740</td>\n",
       "      <td>52.420910</td>\n",
       "      <td>-1.690215</td>\n",
       "      <td>36.524071</td>\n",
       "      <td>-0.408979</td>\n",
       "      <td>41.597103</td>\n",
       "      <td>-2.303523</td>\n",
       "      <td>55.062923</td>\n",
       "      <td>1.221291</td>\n",
       "      <td>46.936035</td>\n",
       "    </tr>\n",
       "    <tr>\n",
       "      <th>1</th>\n",
       "      <td>blues</td>\n",
       "      <td>661794</td>\n",
       "      <td>0.340914</td>\n",
       "      <td>0.094980</td>\n",
       "      <td>0.095948</td>\n",
       "      <td>0.002373</td>\n",
       "      <td>1530.176679</td>\n",
       "      <td>375850.0736</td>\n",
       "      <td>2039.036516</td>\n",
       "      <td>213843.75550</td>\n",
       "      <td>...</td>\n",
       "      <td>0.927998</td>\n",
       "      <td>55.356403</td>\n",
       "      <td>-0.731125</td>\n",
       "      <td>60.314529</td>\n",
       "      <td>0.295073</td>\n",
       "      <td>48.120598</td>\n",
       "      <td>-0.283518</td>\n",
       "      <td>51.106190</td>\n",
       "      <td>0.531217</td>\n",
       "      <td>45.786282</td>\n",
       "    </tr>\n",
       "    <tr>\n",
       "      <th>2</th>\n",
       "      <td>blues</td>\n",
       "      <td>661794</td>\n",
       "      <td>0.363637</td>\n",
       "      <td>0.085275</td>\n",
       "      <td>0.175570</td>\n",
       "      <td>0.002746</td>\n",
       "      <td>1552.811865</td>\n",
       "      <td>156467.6434</td>\n",
       "      <td>1747.702312</td>\n",
       "      <td>76254.19226</td>\n",
       "      <td>...</td>\n",
       "      <td>2.451690</td>\n",
       "      <td>40.598766</td>\n",
       "      <td>-7.729093</td>\n",
       "      <td>47.639427</td>\n",
       "      <td>-1.816407</td>\n",
       "      <td>52.382141</td>\n",
       "      <td>-3.439720</td>\n",
       "      <td>46.639660</td>\n",
       "      <td>-2.231258</td>\n",
       "      <td>30.573025</td>\n",
       "    </tr>\n",
       "    <tr>\n",
       "      <th>3</th>\n",
       "      <td>blues</td>\n",
       "      <td>661794</td>\n",
       "      <td>0.404785</td>\n",
       "      <td>0.093999</td>\n",
       "      <td>0.141093</td>\n",
       "      <td>0.006346</td>\n",
       "      <td>1070.106615</td>\n",
       "      <td>184355.9424</td>\n",
       "      <td>1596.412872</td>\n",
       "      <td>166441.49480</td>\n",
       "      <td>...</td>\n",
       "      <td>0.780874</td>\n",
       "      <td>44.427753</td>\n",
       "      <td>-3.319597</td>\n",
       "      <td>50.206673</td>\n",
       "      <td>0.636965</td>\n",
       "      <td>37.319130</td>\n",
       "      <td>-0.619121</td>\n",
       "      <td>37.259739</td>\n",
       "      <td>-3.407448</td>\n",
       "      <td>31.949339</td>\n",
       "    </tr>\n",
       "    <tr>\n",
       "      <th>4</th>\n",
       "      <td>blues</td>\n",
       "      <td>661794</td>\n",
       "      <td>0.308526</td>\n",
       "      <td>0.087841</td>\n",
       "      <td>0.091529</td>\n",
       "      <td>0.002303</td>\n",
       "      <td>1835.004266</td>\n",
       "      <td>343399.9393</td>\n",
       "      <td>1748.172116</td>\n",
       "      <td>88445.20904</td>\n",
       "      <td>...</td>\n",
       "      <td>-4.520576</td>\n",
       "      <td>86.099236</td>\n",
       "      <td>-5.454034</td>\n",
       "      <td>75.269707</td>\n",
       "      <td>-0.916874</td>\n",
       "      <td>53.613918</td>\n",
       "      <td>-4.404827</td>\n",
       "      <td>62.910812</td>\n",
       "      <td>-11.703234</td>\n",
       "      <td>55.195160</td>\n",
       "    </tr>\n",
       "  </tbody>\n",
       "</table>\n",
       "<p>5 rows × 59 columns</p>\n",
       "</div>"
      ]
     },
     "execution_count": 20,
     "metadata": {},
     "output_type": "execute_result"
    }
   ],
   "execution_count": 20
  },
  {
   "metadata": {},
   "cell_type": "markdown",
   "source": [
    "\n",
    "ما باید برای یادگیری فایل ستون وسطر هایی رو نداشته باشیم که مقادیر پوچ داشته باشن\n",
    " چون اگر وجود داشته باشن در کار ما اختلال ایجاد میشه.برای دیدن تعداد انها و اینکه در کدام ستون بیشتر جمع شدن از این قطعه کد استفاده میکنیم.\n",
    "\n",
    "Before training a model, we need to make sure that our dataset does not contain rows or columns with NaN values, because their presence can interfere with the learning process. To check how many NaN values exist and which columns contain the most, we use the following code snippet."
   ],
   "id": "a2d2972526703699"
  },
  {
   "metadata": {
    "ExecuteTime": {
     "end_time": "2025-10-09T05:28:11.925207Z",
     "start_time": "2025-10-09T05:28:11.918587Z"
    }
   },
   "cell_type": "code",
   "source": "file.isnull().sum()",
   "id": "ba26a5b73fbae5b",
   "outputs": [
    {
     "data": {
      "text/plain": [
       "label                      0\n",
       "length                     0\n",
       "chroma_stft_mean           0\n",
       "chroma_stft_var            0\n",
       "rms_mean                   0\n",
       "rms_var                    0\n",
       "spectral_centroid_mean     0\n",
       "spectral_centroid_var      0\n",
       "spectral_bandwidth_mean    0\n",
       "spectral_bandwidth_var     0\n",
       "rolloff_mean               0\n",
       "rolloff_var                0\n",
       "zero_crossing_rate_mean    0\n",
       "zero_crossing_rate_var     0\n",
       "harmony_mean               0\n",
       "harmony_var                0\n",
       "perceptr_mean              0\n",
       "perceptr_var               0\n",
       "tempo                      0\n",
       "mfcc1_mean                 0\n",
       "mfcc1_var                  0\n",
       "mfcc2_mean                 0\n",
       "mfcc2_var                  0\n",
       "mfcc3_mean                 0\n",
       "mfcc3_var                  0\n",
       "mfcc4_mean                 0\n",
       "mfcc4_var                  0\n",
       "mfcc5_mean                 0\n",
       "mfcc5_var                  0\n",
       "mfcc6_mean                 0\n",
       "mfcc6_var                  0\n",
       "mfcc7_mean                 0\n",
       "mfcc7_var                  0\n",
       "mfcc8_mean                 0\n",
       "mfcc8_var                  0\n",
       "mfcc9_mean                 0\n",
       "mfcc9_var                  0\n",
       "mfcc10_mean                0\n",
       "mfcc10_var                 0\n",
       "mfcc11_mean                0\n",
       "mfcc11_var                 0\n",
       "mfcc12_mean                0\n",
       "mfcc12_var                 0\n",
       "mfcc13_mean                0\n",
       "mfcc13_var                 0\n",
       "mfcc14_mean                0\n",
       "mfcc14_var                 0\n",
       "mfcc15_mean                0\n",
       "mfcc15_var                 0\n",
       "mfcc16_mean                0\n",
       "mfcc16_var                 0\n",
       "mfcc17_mean                0\n",
       "mfcc17_var                 0\n",
       "mfcc18_mean                0\n",
       "mfcc18_var                 0\n",
       "mfcc19_mean                0\n",
       "mfcc19_var                 0\n",
       "mfcc20_mean                0\n",
       "mfcc20_var                 0\n",
       "dtype: int64"
      ]
     },
     "execution_count": 21,
     "metadata": {},
     "output_type": "execute_result"
    }
   ],
   "execution_count": 21
  },
  {
   "metadata": {},
   "cell_type": "markdown",
   "source": [
    "ستون هدف رو از بقیه ستون هل باید جدا کنیم\n",
    "\n",
    "We need to separate the target column from the other columns\n"
   ],
   "id": "280ce1c5a157fdb"
  },
  {
   "metadata": {
    "ExecuteTime": {
     "end_time": "2025-10-09T05:28:12.122721Z",
     "start_time": "2025-10-09T05:28:12.116562Z"
    }
   },
   "cell_type": "code",
   "source": [
    "y=file['label'].values\n",
    "y[:5]"
   ],
   "id": "e5bdb739a2ff3589",
   "outputs": [
    {
     "data": {
      "text/plain": [
       "array(['blues', 'blues', 'blues', 'blues', 'blues'], dtype=object)"
      ]
     },
     "execution_count": 22,
     "metadata": {},
     "output_type": "execute_result"
    }
   ],
   "execution_count": 22
  },
  {
   "metadata": {},
   "cell_type": "markdown",
   "source": [
    "\n",
    "ستون تبدیل میشه به یک ارایه نام پای\n",
    "\n",
    "The column is converted into a NumPy array\n"
   ],
   "id": "7c9fab5064170563"
  },
  {
   "metadata": {
    "ExecuteTime": {
     "end_time": "2025-10-09T05:28:12.178471Z",
     "start_time": "2025-10-09T05:28:12.174470Z"
    }
   },
   "cell_type": "code",
   "source": "file=np.asanyarray(file)",
   "id": "9f41a1cf188986df",
   "outputs": [],
   "execution_count": 23
  },
  {
   "metadata": {},
   "cell_type": "markdown",
   "source": [
    "\n",
    "\n",
    "باید ستون هایی که دارای مقادیر استیرینگ هستن حتما به عدد تبدیل بشن در غیر این صورت یادگیری انجام نمیشه و ما با ارور مواجه میشیم حالا چه ستون ویژگی باشه و چه ستون برچسب یا همون هدف ما\n",
    "\n",
    "این ستون که به عدد تبدیل میشه ستون هدف ما هست و با لیبل اینکدر تبدیل میشه به عدد\n",
    "\n",
    "Columns that contain string values must be converted to numeric values; otherwise, the learning process won't work and will result in an error. This applies to both feature columns and the target (label) column.\n",
    "\n",
    "The column being converted here is our target column, and it is transformed into numbers using a LabelEncoder.\n"
   ],
   "id": "7d9935a482236eea"
  },
  {
   "metadata": {
    "ExecuteTime": {
     "end_time": "2025-10-09T05:28:12.217063Z",
     "start_time": "2025-10-09T05:28:12.212884Z"
    }
   },
   "cell_type": "code",
   "source": [
    "from sklearn.preprocessing import LabelEncoder\n",
    "le=LabelEncoder()\n",
    "le.fit(['blues','classical','country','disco','hiphop','jazz','metal','pop','reggae','rock'])\n",
    "file[:,0]=le.fit_transform(file[:,0])\n"
   ],
   "id": "c1e7ac626cb003ac",
   "outputs": [],
   "execution_count": 24
  },
  {
   "metadata": {},
   "cell_type": "markdown",
   "source": [
    "\n",
    "\n",
    "این قسمت مرحله تقسیم داده به داده های آموزش و تست هست و در اخر شکل داده چاپ شده.\n",
    "داده به 80 درصد داده اموزشی و 20 درصد داده تست تقسیم شده.\n",
    "\n",
    "This section is the stage where the data is split into training and test sets, and finally the shape of the data is printed.\n",
    "The data is divided into 80% training and 20% test.\n",
    "\n"
   ],
   "id": "7f1b4f024984f671"
  },
  {
   "metadata": {
    "ExecuteTime": {
     "end_time": "2025-10-09T05:28:12.251474Z",
     "start_time": "2025-10-09T05:28:12.243893Z"
    }
   },
   "cell_type": "code",
   "source": [
    "from sklearn.model_selection import train_test_split\n",
    "x_train,x_test,y_train,y_test=train_test_split(file,y,test_size=0.2)\n",
    "print('set train data:',x_train.shape)\n",
    "print('set test data:',x_test.shape)"
   ],
   "id": "46437dbbbfde9703",
   "outputs": [
    {
     "name": "stdout",
     "output_type": "stream",
     "text": [
      "set train data: (800, 59)\n",
      "set test data: (200, 59)\n"
     ]
    }
   ],
   "execution_count": 25
  },
  {
   "metadata": {
    "ExecuteTime": {
     "end_time": "2025-10-09T05:28:12.268054Z",
     "start_time": "2025-10-09T05:28:12.264281Z"
    }
   },
   "cell_type": "code",
   "source": "file",
   "id": "4266ffbf195e536e",
   "outputs": [
    {
     "data": {
      "text/plain": [
       "array([[0, 661794, 0.35008812, ..., 55.06292343, 1.221290708,\n",
       "        46.93603516],\n",
       "       [0, 661794, 0.340913594, ..., 51.10618973, 0.531216502,\n",
       "        45.78628159],\n",
       "       [0, 661794, 0.363637179, ..., 46.63965988, -2.231258392,\n",
       "        30.57302475],\n",
       "       ...,\n",
       "       [9, 661794, 0.432142019, ..., 42.50220108, -2.106336594,\n",
       "        29.86551476],\n",
       "       [9, 661794, 0.362484574, ..., 47.22718048, -3.590643644,\n",
       "        41.29908752],\n",
       "       [9, 661794, 0.358401328, ..., 72.1893158, 1.155239105,\n",
       "        49.66250992]], shape=(1000, 59), dtype=object)"
      ]
     },
     "execution_count": 26,
     "metadata": {},
     "output_type": "execute_result"
    }
   ],
   "execution_count": 26
  },
  {
   "metadata": {},
   "cell_type": "markdown",
   "source": [
    "\n",
    "فراخوانی الگوریتم برای یادگیری ما در اینجا از رندوم فارست استفاده کردیم که الگوریتم بسیار قدرتمندی هست برای شاخه بندی داده.\n",
    "داده های تقسیم شده رو آموزش میدیم به الگوریتم  و به اون میگیم که حدس بزنه\n",
    "\n",
    "Calling the learning algorithm: Here, we used Random Forest, which is a very powerful algorithm for data classification.\n",
    "We train the algorithm using the split data and then ask it to make predictions.\n"
   ],
   "id": "86242cc422ad649d"
  },
  {
   "metadata": {
    "ExecuteTime": {
     "end_time": "2025-10-09T05:28:12.641681Z",
     "start_time": "2025-10-09T05:28:12.305584Z"
    }
   },
   "cell_type": "code",
   "source": [
    "from sklearn.ensemble import RandomForestClassifier\n",
    "model=RandomForestClassifier(n_estimators=100)\n",
    "model.fit(x_train,y_train)\n",
    "y_pred=model.predict(x_test)\n"
   ],
   "id": "6f017caacc592731",
   "outputs": [],
   "execution_count": 27
  },
  {
   "metadata": {},
   "cell_type": "markdown",
   "source": [
    "\n",
    "\n",
    "اینها همه معیار های ارزیابی مدل ما هستن که ما به وسیله اینها الگوریتمی که آموزش دادیم رو میسنجیم\n",
    "نمره دقت بالا نشون دهنده اینه مدل به خوبی آموزش دیده و برای پیش بینی روی داده های جدید دقت کافی داره و خوب یا عالی عمل میکنه\n",
    "که در اینجا عالی بوده\n",
    "\n",
    "These are all the evaluation metrics for our model, which we use to assess the performance of the trained algorithm.\n",
    "A high accuracy score indicates that the model has been well-trained and performs effectively—sometimes even excellently—when predicting on new data\n",
    "Which, in this case, has performed excellently\n"
   ],
   "id": "e6530a41ec9885dd"
  },
  {
   "metadata": {
    "ExecuteTime": {
     "end_time": "2025-10-09T05:28:12.689176Z",
     "start_time": "2025-10-09T05:28:12.684728Z"
    }
   },
   "cell_type": "code",
   "source": [
    "from sklearn.metrics import accuracy_score,recall_score,precision_score,f1_score\n",
    "accuracy_score(y_test,y_pred)"
   ],
   "id": "f6a1f6ce25687d0",
   "outputs": [
    {
     "data": {
      "text/plain": [
       "0.955"
      ]
     },
     "execution_count": 28,
     "metadata": {},
     "output_type": "execute_result"
    }
   ],
   "execution_count": 28
  },
  {
   "metadata": {},
   "cell_type": "markdown",
   "source": [
    "\n",
    "مدل چقدر تونسته مقدار مقادیر مثبت واقعی رو تشخیص بده\n",
    "در اینجا عالی بوده\n",
    "\n",
    "How well the model has identified the actual positive values is measured by **recall**.\n",
    "Recall tells us the proportion of true positive cases that the model successfully detected.\n",
    "Here, it has performed excellently.\n",
    "\n"
   ],
   "id": "57f51ad78aa021f"
  },
  {
   "metadata": {
    "ExecuteTime": {
     "end_time": "2025-10-09T05:28:12.804462Z",
     "start_time": "2025-10-09T05:28:12.798130Z"
    }
   },
   "cell_type": "code",
   "source": "recall_score(y_test,y_pred,average='macro')",
   "id": "8a02fedcb74b1cd9",
   "outputs": [
    {
     "data": {
      "text/plain": [
       "0.9587657870165611"
      ]
     },
     "execution_count": 29,
     "metadata": {},
     "output_type": "execute_result"
    }
   ],
   "execution_count": 29
  },
  {
   "metadata": {},
   "cell_type": "markdown",
   "source": [
    "\n",
    "\n",
    "این قسمت و معیار در واقع میگه به ما از همه چیزهایی که مدل ب عنوان مثبت پیش بینی کرده چند درصدش واقعا مثبته؟\n",
    " در اینجا عالی عمل کرده\n",
    "\n",
    "\n",
    "This part and metric essentially tells us:\n",
    "Out of everything the model predicted as positive, what percentage is actually positive?\n",
    "Here, it has performed excellently"
   ],
   "id": "431f6708f9432f3f"
  },
  {
   "metadata": {
    "ExecuteTime": {
     "end_time": "2025-10-09T05:28:12.833262Z",
     "start_time": "2025-10-09T05:28:12.828697Z"
    }
   },
   "cell_type": "code",
   "source": "precision_score(y_test,y_pred,average='weighted')",
   "id": "35d010d796200655",
   "outputs": [
    {
     "data": {
      "text/plain": [
       "0.957867986542443"
      ]
     },
     "execution_count": 30,
     "metadata": {},
     "output_type": "execute_result"
    }
   ],
   "execution_count": 30
  },
  {
   "metadata": {},
   "cell_type": "markdown",
   "source": [
    "\n",
    "\n",
    "این معیار درواقع نشون میده مدل چقدر توسنته بین معیار بازخوانی و  معیار نرخ صحت پیش بینی های مثبت تعادل برقرار کنه\n",
    "که دراینجا عالی عمل کرده\n",
    "\n",
    "This metric essentially shows how well the model has balanced **recall** and **precision**.\n"
   ],
   "id": "73190e55ee129b7a"
  },
  {
   "metadata": {
    "ExecuteTime": {
     "end_time": "2025-10-09T05:28:12.855549Z",
     "start_time": "2025-10-09T05:28:12.850926Z"
    }
   },
   "cell_type": "code",
   "source": "f1_score(y_test,y_pred,average='macro')",
   "id": "4b690950e564601e",
   "outputs": [
    {
     "data": {
      "text/plain": [
       "0.954075471090448"
      ]
     },
     "execution_count": 31,
     "metadata": {},
     "output_type": "execute_result"
    }
   ],
   "execution_count": 31
  },
  {
   "metadata": {},
   "cell_type": "markdown",
   "source": [
    "\n",
    "با توجه به اینکه همه امتیازها عالی هستند، این الگوریتم عملکرد فوق‌العاده‌ای داره.\n",
    "این الگوریتم قدرت پیش‌بینی قوی، دقت و فراخوانی متعادل و تعمیم‌پذیری قابل اعتماد به داده‌های جدید را نشان می‌ده.\n",
    "\n",
    "Given that all the scores are excellent, this algorithm is performing exceptionally well.\n",
    "It demonstrates strong predictive power, balanced precision and recall, and reliable generalization to new data—making it a top-tier model for this task.\n"
   ],
   "id": "2b15b1cf9d2487a"
  }
 ],
 "metadata": {
  "kernelspec": {
   "display_name": "Python 3",
   "language": "python",
   "name": "python3"
  },
  "language_info": {
   "codemirror_mode": {
    "name": "ipython",
    "version": 2
   },
   "file_extension": ".py",
   "mimetype": "text/x-python",
   "name": "python",
   "nbconvert_exporter": "python",
   "pygments_lexer": "ipython2",
   "version": "2.7.6"
  }
 },
 "nbformat": 4,
 "nbformat_minor": 5
}
