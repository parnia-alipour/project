{
 "cells": [
  {
   "metadata": {},
   "cell_type": "markdown",
   "source": "# K-Means",
   "id": "2462b92d5242fd74"
  },
  {
   "metadata": {},
   "cell_type": "markdown",
   "source": [
    "\n",
    "\n",
    " توجه توضیح یسری از سلول ها اگر وجود نداره در فایل\n",
    "\n",
    "music.ipynb\n",
    " هست\n",
    "\n",
    "\n",
    " Note: Some of the explanations or cells may be missing here, but they are available in the file `music.ipynb`."
   ],
   "id": "2ef373173efbceb9"
  },
  {
   "cell_type": "code",
   "id": "initial_id",
   "metadata": {
    "collapsed": true,
    "ExecuteTime": {
     "end_time": "2025-10-21T13:02:03.379149Z",
     "start_time": "2025-10-21T13:02:02.118978Z"
    }
   },
   "source": [
    "import  pandas as pd\n",
    "import numpy as np\n",
    "import matplotlib.pyplot as plt\n",
    "from sklearn.cluster import KMeans, k_means"
   ],
   "outputs": [],
   "execution_count": 1
  },
  {
   "metadata": {},
   "cell_type": "markdown",
   "source": [
    "دیتا از:https://www.kaggle.com/code/khotijahs1/k-means-clustering-of-iris-dataset/notebookد\n",
    "~~~Data"
   ],
   "id": "6f5c995769525a8e"
  },
  {
   "metadata": {
    "ExecuteTime": {
     "end_time": "2025-10-21T13:02:03.400829Z",
     "start_time": "2025-10-21T13:02:03.386588Z"
    }
   },
   "cell_type": "code",
   "source": [
    "x=pd.read_csv('IRIS.csv')\n",
    "x[:10]"
   ],
   "id": "dcf1169c2c4e3108",
   "outputs": [
    {
     "data": {
      "text/plain": [
       "   sepal_length  sepal_width  petal_length  petal_width      species\n",
       "0           5.1          3.5           1.4          0.2  Iris-setosa\n",
       "1           4.9          3.0           1.4          0.2  Iris-setosa\n",
       "2           4.7          3.2           1.3          0.2  Iris-setosa\n",
       "3           4.6          3.1           1.5          0.2  Iris-setosa\n",
       "4           5.0          3.6           1.4          0.2  Iris-setosa\n",
       "5           5.4          3.9           1.7          0.4  Iris-setosa\n",
       "6           4.6          3.4           1.4          0.3  Iris-setosa\n",
       "7           5.0          3.4           1.5          0.2  Iris-setosa\n",
       "8           4.4          2.9           1.4          0.2  Iris-setosa\n",
       "9           4.9          3.1           1.5          0.1  Iris-setosa"
      ],
      "text/html": [
       "<div>\n",
       "<style scoped>\n",
       "    .dataframe tbody tr th:only-of-type {\n",
       "        vertical-align: middle;\n",
       "    }\n",
       "\n",
       "    .dataframe tbody tr th {\n",
       "        vertical-align: top;\n",
       "    }\n",
       "\n",
       "    .dataframe thead th {\n",
       "        text-align: right;\n",
       "    }\n",
       "</style>\n",
       "<table border=\"1\" class=\"dataframe\">\n",
       "  <thead>\n",
       "    <tr style=\"text-align: right;\">\n",
       "      <th></th>\n",
       "      <th>sepal_length</th>\n",
       "      <th>sepal_width</th>\n",
       "      <th>petal_length</th>\n",
       "      <th>petal_width</th>\n",
       "      <th>species</th>\n",
       "    </tr>\n",
       "  </thead>\n",
       "  <tbody>\n",
       "    <tr>\n",
       "      <th>0</th>\n",
       "      <td>5.1</td>\n",
       "      <td>3.5</td>\n",
       "      <td>1.4</td>\n",
       "      <td>0.2</td>\n",
       "      <td>Iris-setosa</td>\n",
       "    </tr>\n",
       "    <tr>\n",
       "      <th>1</th>\n",
       "      <td>4.9</td>\n",
       "      <td>3.0</td>\n",
       "      <td>1.4</td>\n",
       "      <td>0.2</td>\n",
       "      <td>Iris-setosa</td>\n",
       "    </tr>\n",
       "    <tr>\n",
       "      <th>2</th>\n",
       "      <td>4.7</td>\n",
       "      <td>3.2</td>\n",
       "      <td>1.3</td>\n",
       "      <td>0.2</td>\n",
       "      <td>Iris-setosa</td>\n",
       "    </tr>\n",
       "    <tr>\n",
       "      <th>3</th>\n",
       "      <td>4.6</td>\n",
       "      <td>3.1</td>\n",
       "      <td>1.5</td>\n",
       "      <td>0.2</td>\n",
       "      <td>Iris-setosa</td>\n",
       "    </tr>\n",
       "    <tr>\n",
       "      <th>4</th>\n",
       "      <td>5.0</td>\n",
       "      <td>3.6</td>\n",
       "      <td>1.4</td>\n",
       "      <td>0.2</td>\n",
       "      <td>Iris-setosa</td>\n",
       "    </tr>\n",
       "    <tr>\n",
       "      <th>5</th>\n",
       "      <td>5.4</td>\n",
       "      <td>3.9</td>\n",
       "      <td>1.7</td>\n",
       "      <td>0.4</td>\n",
       "      <td>Iris-setosa</td>\n",
       "    </tr>\n",
       "    <tr>\n",
       "      <th>6</th>\n",
       "      <td>4.6</td>\n",
       "      <td>3.4</td>\n",
       "      <td>1.4</td>\n",
       "      <td>0.3</td>\n",
       "      <td>Iris-setosa</td>\n",
       "    </tr>\n",
       "    <tr>\n",
       "      <th>7</th>\n",
       "      <td>5.0</td>\n",
       "      <td>3.4</td>\n",
       "      <td>1.5</td>\n",
       "      <td>0.2</td>\n",
       "      <td>Iris-setosa</td>\n",
       "    </tr>\n",
       "    <tr>\n",
       "      <th>8</th>\n",
       "      <td>4.4</td>\n",
       "      <td>2.9</td>\n",
       "      <td>1.4</td>\n",
       "      <td>0.2</td>\n",
       "      <td>Iris-setosa</td>\n",
       "    </tr>\n",
       "    <tr>\n",
       "      <th>9</th>\n",
       "      <td>4.9</td>\n",
       "      <td>3.1</td>\n",
       "      <td>1.5</td>\n",
       "      <td>0.1</td>\n",
       "      <td>Iris-setosa</td>\n",
       "    </tr>\n",
       "  </tbody>\n",
       "</table>\n",
       "</div>"
      ]
     },
     "execution_count": 2,
     "metadata": {},
     "output_type": "execute_result"
    }
   ],
   "execution_count": 2
  },
  {
   "metadata": {
    "ExecuteTime": {
     "end_time": "2025-10-21T13:02:03.443777Z",
     "start_time": "2025-10-21T13:02:03.439953Z"
    }
   },
   "cell_type": "code",
   "source": "x.isnull().sum()",
   "id": "b1655004f4bc985e",
   "outputs": [
    {
     "data": {
      "text/plain": [
       "sepal_length    0\n",
       "sepal_width     0\n",
       "petal_length    0\n",
       "petal_width     0\n",
       "species         0\n",
       "dtype: int64"
      ]
     },
     "execution_count": 3,
     "metadata": {},
     "output_type": "execute_result"
    }
   ],
   "execution_count": 3
  },
  {
   "metadata": {
    "ExecuteTime": {
     "end_time": "2025-10-21T13:02:03.556317Z",
     "start_time": "2025-10-21T13:02:03.553871Z"
    }
   },
   "cell_type": "code",
   "source": "x=np.asanyarray(x)",
   "id": "68f87dcb3b19032c",
   "outputs": [],
   "execution_count": 4
  },
  {
   "metadata": {},
   "cell_type": "markdown",
   "source": [
    "\n",
    "\n",
    "برای نمایش شکل ستون و ستون دوم\n",
    "\n",
    "To display the shape of a column and the second column\n",
    "\n",
    "پراکندگی بسیار بالاس\n",
    "\n",
    "The dispersion is very high\n"
   ],
   "id": "7b5be75e8de91bc1"
  },
  {
   "metadata": {
    "ExecuteTime": {
     "end_time": "2025-10-21T13:02:03.680810Z",
     "start_time": "2025-10-21T13:02:03.597300Z"
    }
   },
   "cell_type": "code",
   "source": "plt.scatter(x[:,0],x[:,1],marker='.')",
   "id": "7912593fff387ac2",
   "outputs": [
    {
     "data": {
      "text/plain": [
       "<matplotlib.collections.PathCollection at 0x228b2d646e0>"
      ]
     },
     "execution_count": 5,
     "metadata": {},
     "output_type": "execute_result"
    },
    {
     "data": {
      "text/plain": [
       "<Figure size 640x480 with 1 Axes>"
      ],
      "image/png": "[encoded data removed]"
     },
     "metadata": {},
     "output_type": "display_data"
    }
   ],
   "execution_count": 5
  },
  {
   "metadata": {
    "ExecuteTime": {
     "end_time": "2025-10-21T13:02:03.711101Z",
     "start_time": "2025-10-21T13:02:03.708323Z"
    }
   },
   "cell_type": "code",
   "source": [
    "from sklearn.preprocessing import LabelEncoder\n",
    "lb=LabelEncoder()\n",
    "x[:,4]=lb.fit_transform(x[:,4])\n",
    "\n",
    "\n"
   ],
   "id": "ae0d7bb88146d2ce",
   "outputs": [],
   "execution_count": 6
  },
  {
   "metadata": {
    "ExecuteTime": {
     "end_time": "2025-10-21T13:02:03.725315Z",
     "start_time": "2025-10-21T13:02:03.718919Z"
    }
   },
   "cell_type": "code",
   "source": [
    "from sklearn.preprocessing import MinMaxScaler\n",
    "x=np.nan_to_num(x)\n",
    "x=MinMaxScaler().fit_transform(x)\n",
    "x"
   ],
   "id": "77720ed2b3567346",
   "outputs": [
    {
     "data": {
      "text/plain": [
       "array([[0.22222222, 0.625     , 0.06779661, 0.04166667, 0.        ],\n",
       "       [0.16666667, 0.41666667, 0.06779661, 0.04166667, 0.        ],\n",
       "       [0.11111111, 0.5       , 0.05084746, 0.04166667, 0.        ],\n",
       "       [0.08333333, 0.45833333, 0.08474576, 0.04166667, 0.        ],\n",
       "       [0.19444444, 0.66666667, 0.06779661, 0.04166667, 0.        ],\n",
       "       [0.30555556, 0.79166667, 0.11864407, 0.125     , 0.        ],\n",
       "       [0.08333333, 0.58333333, 0.06779661, 0.08333333, 0.        ],\n",
       "       [0.19444444, 0.58333333, 0.08474576, 0.04166667, 0.        ],\n",
       "       [0.02777778, 0.375     , 0.06779661, 0.04166667, 0.        ],\n",
       "       [0.16666667, 0.45833333, 0.08474576, 0.        , 0.        ],\n",
       "       [0.30555556, 0.70833333, 0.08474576, 0.04166667, 0.        ],\n",
       "       [0.13888889, 0.58333333, 0.10169492, 0.04166667, 0.        ],\n",
       "       [0.13888889, 0.41666667, 0.06779661, 0.        , 0.        ],\n",
       "       [0.        , 0.41666667, 0.01694915, 0.        , 0.        ],\n",
       "       [0.41666667, 0.83333333, 0.03389831, 0.04166667, 0.        ],\n",
       "       [0.38888889, 1.        , 0.08474576, 0.125     , 0.        ],\n",
       "       [0.30555556, 0.79166667, 0.05084746, 0.125     , 0.        ],\n",
       "       [0.22222222, 0.625     , 0.06779661, 0.08333333, 0.        ],\n",
       "       [0.38888889, 0.75      , 0.11864407, 0.08333333, 0.        ],\n",
       "       [0.22222222, 0.75      , 0.08474576, 0.08333333, 0.        ],\n",
       "       [0.30555556, 0.58333333, 0.11864407, 0.04166667, 0.        ],\n",
       "       [0.22222222, 0.70833333, 0.08474576, 0.125     , 0.        ],\n",
       "       [0.08333333, 0.66666667, 0.        , 0.04166667, 0.        ],\n",
       "       [0.22222222, 0.54166667, 0.11864407, 0.16666667, 0.        ],\n",
       "       [0.13888889, 0.58333333, 0.15254237, 0.04166667, 0.        ],\n",
       "       [0.19444444, 0.41666667, 0.10169492, 0.04166667, 0.        ],\n",
       "       [0.19444444, 0.58333333, 0.10169492, 0.125     , 0.        ],\n",
       "       [0.25      , 0.625     , 0.08474576, 0.04166667, 0.        ],\n",
       "       [0.25      , 0.58333333, 0.06779661, 0.04166667, 0.        ],\n",
       "       [0.11111111, 0.5       , 0.10169492, 0.04166667, 0.        ],\n",
       "       [0.13888889, 0.45833333, 0.10169492, 0.04166667, 0.        ],\n",
       "       [0.30555556, 0.58333333, 0.08474576, 0.125     , 0.        ],\n",
       "       [0.25      , 0.875     , 0.08474576, 0.        , 0.        ],\n",
       "       [0.33333333, 0.91666667, 0.06779661, 0.04166667, 0.        ],\n",
       "       [0.16666667, 0.45833333, 0.08474576, 0.        , 0.        ],\n",
       "       [0.19444444, 0.5       , 0.03389831, 0.04166667, 0.        ],\n",
       "       [0.33333333, 0.625     , 0.05084746, 0.04166667, 0.        ],\n",
       "       [0.16666667, 0.45833333, 0.08474576, 0.        , 0.        ],\n",
       "       [0.02777778, 0.41666667, 0.05084746, 0.04166667, 0.        ],\n",
       "       [0.22222222, 0.58333333, 0.08474576, 0.04166667, 0.        ],\n",
       "       [0.19444444, 0.625     , 0.05084746, 0.08333333, 0.        ],\n",
       "       [0.05555556, 0.125     , 0.05084746, 0.08333333, 0.        ],\n",
       "       [0.02777778, 0.5       , 0.05084746, 0.04166667, 0.        ],\n",
       "       [0.19444444, 0.625     , 0.10169492, 0.20833333, 0.        ],\n",
       "       [0.22222222, 0.75      , 0.15254237, 0.125     , 0.        ],\n",
       "       [0.13888889, 0.41666667, 0.06779661, 0.08333333, 0.        ],\n",
       "       [0.22222222, 0.75      , 0.10169492, 0.04166667, 0.        ],\n",
       "       [0.08333333, 0.5       , 0.06779661, 0.04166667, 0.        ],\n",
       "       [0.27777778, 0.70833333, 0.08474576, 0.04166667, 0.        ],\n",
       "       [0.19444444, 0.54166667, 0.06779661, 0.04166667, 0.        ],\n",
       "       [0.75      , 0.5       , 0.62711864, 0.54166667, 0.5       ],\n",
       "       [0.58333333, 0.5       , 0.59322034, 0.58333333, 0.5       ],\n",
       "       [0.72222222, 0.45833333, 0.66101695, 0.58333333, 0.5       ],\n",
       "       [0.33333333, 0.125     , 0.50847458, 0.5       , 0.5       ],\n",
       "       [0.61111111, 0.33333333, 0.61016949, 0.58333333, 0.5       ],\n",
       "       [0.38888889, 0.33333333, 0.59322034, 0.5       , 0.5       ],\n",
       "       [0.55555556, 0.54166667, 0.62711864, 0.625     , 0.5       ],\n",
       "       [0.16666667, 0.16666667, 0.38983051, 0.375     , 0.5       ],\n",
       "       [0.63888889, 0.375     , 0.61016949, 0.5       , 0.5       ],\n",
       "       [0.25      , 0.29166667, 0.49152542, 0.54166667, 0.5       ],\n",
       "       [0.19444444, 0.        , 0.42372881, 0.375     , 0.5       ],\n",
       "       [0.44444444, 0.41666667, 0.54237288, 0.58333333, 0.5       ],\n",
       "       [0.47222222, 0.08333333, 0.50847458, 0.375     , 0.5       ],\n",
       "       [0.5       , 0.375     , 0.62711864, 0.54166667, 0.5       ],\n",
       "       [0.36111111, 0.375     , 0.44067797, 0.5       , 0.5       ],\n",
       "       [0.66666667, 0.45833333, 0.57627119, 0.54166667, 0.5       ],\n",
       "       [0.36111111, 0.41666667, 0.59322034, 0.58333333, 0.5       ],\n",
       "       [0.41666667, 0.29166667, 0.52542373, 0.375     , 0.5       ],\n",
       "       [0.52777778, 0.08333333, 0.59322034, 0.58333333, 0.5       ],\n",
       "       [0.36111111, 0.20833333, 0.49152542, 0.41666667, 0.5       ],\n",
       "       [0.44444444, 0.5       , 0.6440678 , 0.70833333, 0.5       ],\n",
       "       [0.5       , 0.33333333, 0.50847458, 0.5       , 0.5       ],\n",
       "       [0.55555556, 0.20833333, 0.66101695, 0.58333333, 0.5       ],\n",
       "       [0.5       , 0.33333333, 0.62711864, 0.45833333, 0.5       ],\n",
       "       [0.58333333, 0.375     , 0.55932203, 0.5       , 0.5       ],\n",
       "       [0.63888889, 0.41666667, 0.57627119, 0.54166667, 0.5       ],\n",
       "       [0.69444444, 0.33333333, 0.6440678 , 0.54166667, 0.5       ],\n",
       "       [0.66666667, 0.41666667, 0.6779661 , 0.66666667, 0.5       ],\n",
       "       [0.47222222, 0.375     , 0.59322034, 0.58333333, 0.5       ],\n",
       "       [0.38888889, 0.25      , 0.42372881, 0.375     , 0.5       ],\n",
       "       [0.33333333, 0.16666667, 0.47457627, 0.41666667, 0.5       ],\n",
       "       [0.33333333, 0.16666667, 0.45762712, 0.375     , 0.5       ],\n",
       "       [0.41666667, 0.29166667, 0.49152542, 0.45833333, 0.5       ],\n",
       "       [0.47222222, 0.29166667, 0.69491525, 0.625     , 0.5       ],\n",
       "       [0.30555556, 0.41666667, 0.59322034, 0.58333333, 0.5       ],\n",
       "       [0.47222222, 0.58333333, 0.59322034, 0.625     , 0.5       ],\n",
       "       [0.66666667, 0.45833333, 0.62711864, 0.58333333, 0.5       ],\n",
       "       [0.55555556, 0.125     , 0.57627119, 0.5       , 0.5       ],\n",
       "       [0.36111111, 0.41666667, 0.52542373, 0.5       , 0.5       ],\n",
       "       [0.33333333, 0.20833333, 0.50847458, 0.5       , 0.5       ],\n",
       "       [0.33333333, 0.25      , 0.57627119, 0.45833333, 0.5       ],\n",
       "       [0.5       , 0.41666667, 0.61016949, 0.54166667, 0.5       ],\n",
       "       [0.41666667, 0.25      , 0.50847458, 0.45833333, 0.5       ],\n",
       "       [0.19444444, 0.125     , 0.38983051, 0.375     , 0.5       ],\n",
       "       [0.36111111, 0.29166667, 0.54237288, 0.5       , 0.5       ],\n",
       "       [0.38888889, 0.41666667, 0.54237288, 0.45833333, 0.5       ],\n",
       "       [0.38888889, 0.375     , 0.54237288, 0.5       , 0.5       ],\n",
       "       [0.52777778, 0.375     , 0.55932203, 0.5       , 0.5       ],\n",
       "       [0.22222222, 0.20833333, 0.33898305, 0.41666667, 0.5       ],\n",
       "       [0.38888889, 0.33333333, 0.52542373, 0.5       , 0.5       ],\n",
       "       [0.55555556, 0.54166667, 0.84745763, 1.        , 1.        ],\n",
       "       [0.41666667, 0.29166667, 0.69491525, 0.75      , 1.        ],\n",
       "       [0.77777778, 0.41666667, 0.83050847, 0.83333333, 1.        ],\n",
       "       [0.55555556, 0.375     , 0.77966102, 0.70833333, 1.        ],\n",
       "       [0.61111111, 0.41666667, 0.81355932, 0.875     , 1.        ],\n",
       "       [0.91666667, 0.41666667, 0.94915254, 0.83333333, 1.        ],\n",
       "       [0.16666667, 0.20833333, 0.59322034, 0.66666667, 1.        ],\n",
       "       [0.83333333, 0.375     , 0.89830508, 0.70833333, 1.        ],\n",
       "       [0.66666667, 0.20833333, 0.81355932, 0.70833333, 1.        ],\n",
       "       [0.80555556, 0.66666667, 0.86440678, 1.        , 1.        ],\n",
       "       [0.61111111, 0.5       , 0.69491525, 0.79166667, 1.        ],\n",
       "       [0.58333333, 0.29166667, 0.72881356, 0.75      , 1.        ],\n",
       "       [0.69444444, 0.41666667, 0.76271186, 0.83333333, 1.        ],\n",
       "       [0.38888889, 0.20833333, 0.6779661 , 0.79166667, 1.        ],\n",
       "       [0.41666667, 0.33333333, 0.69491525, 0.95833333, 1.        ],\n",
       "       [0.58333333, 0.5       , 0.72881356, 0.91666667, 1.        ],\n",
       "       [0.61111111, 0.41666667, 0.76271186, 0.70833333, 1.        ],\n",
       "       [0.94444444, 0.75      , 0.96610169, 0.875     , 1.        ],\n",
       "       [0.94444444, 0.25      , 1.        , 0.91666667, 1.        ],\n",
       "       [0.47222222, 0.08333333, 0.6779661 , 0.58333333, 1.        ],\n",
       "       [0.72222222, 0.5       , 0.79661017, 0.91666667, 1.        ],\n",
       "       [0.36111111, 0.33333333, 0.66101695, 0.79166667, 1.        ],\n",
       "       [0.94444444, 0.33333333, 0.96610169, 0.79166667, 1.        ],\n",
       "       [0.55555556, 0.29166667, 0.66101695, 0.70833333, 1.        ],\n",
       "       [0.66666667, 0.54166667, 0.79661017, 0.83333333, 1.        ],\n",
       "       [0.80555556, 0.5       , 0.84745763, 0.70833333, 1.        ],\n",
       "       [0.52777778, 0.33333333, 0.6440678 , 0.70833333, 1.        ],\n",
       "       [0.5       , 0.41666667, 0.66101695, 0.70833333, 1.        ],\n",
       "       [0.58333333, 0.33333333, 0.77966102, 0.83333333, 1.        ],\n",
       "       [0.80555556, 0.41666667, 0.81355932, 0.625     , 1.        ],\n",
       "       [0.86111111, 0.33333333, 0.86440678, 0.75      , 1.        ],\n",
       "       [1.        , 0.75      , 0.91525424, 0.79166667, 1.        ],\n",
       "       [0.58333333, 0.33333333, 0.77966102, 0.875     , 1.        ],\n",
       "       [0.55555556, 0.33333333, 0.69491525, 0.58333333, 1.        ],\n",
       "       [0.5       , 0.25      , 0.77966102, 0.54166667, 1.        ],\n",
       "       [0.94444444, 0.41666667, 0.86440678, 0.91666667, 1.        ],\n",
       "       [0.55555556, 0.58333333, 0.77966102, 0.95833333, 1.        ],\n",
       "       [0.58333333, 0.45833333, 0.76271186, 0.70833333, 1.        ],\n",
       "       [0.47222222, 0.41666667, 0.6440678 , 0.70833333, 1.        ],\n",
       "       [0.72222222, 0.45833333, 0.74576271, 0.83333333, 1.        ],\n",
       "       [0.66666667, 0.45833333, 0.77966102, 0.95833333, 1.        ],\n",
       "       [0.72222222, 0.45833333, 0.69491525, 0.91666667, 1.        ],\n",
       "       [0.41666667, 0.29166667, 0.69491525, 0.75      , 1.        ],\n",
       "       [0.69444444, 0.5       , 0.83050847, 0.91666667, 1.        ],\n",
       "       [0.66666667, 0.54166667, 0.79661017, 1.        , 1.        ],\n",
       "       [0.66666667, 0.41666667, 0.71186441, 0.91666667, 1.        ],\n",
       "       [0.55555556, 0.20833333, 0.6779661 , 0.75      , 1.        ],\n",
       "       [0.61111111, 0.41666667, 0.71186441, 0.79166667, 1.        ],\n",
       "       [0.52777778, 0.58333333, 0.74576271, 0.91666667, 1.        ],\n",
       "       [0.44444444, 0.41666667, 0.69491525, 0.70833333, 1.        ]])"
      ]
     },
     "execution_count": 7,
     "metadata": {},
     "output_type": "execute_result"
    }
   ],
   "execution_count": 7
  },
  {
   "metadata": {},
   "cell_type": "markdown",
   "source": [
    "\n",
    "**فشرده‌سازی داده:**\n",
    "این فرآیند به شما کمک می‌کند داده‌هایی را که ساختار مناسبی ندارند، به شکل بهینه‌تری تبدیل کرده و قابل استفاده‌تر کنید.\n",
    "معیار n_components=2\n",
    "داده‌ها رو از فضای اصلی‌شون (مثلاً 1000 بعد) فشرده میکنه  به فقط 2 بعد.\n",
    "\n",
    "\n",
    "**n_components=2:**\n",
    "Compress the data from its original space (e.g., 1000 dimensions) down to just 2 dimensions.\n",
    "\n"
   ],
   "id": "af880799aeaf8c11"
  },
  {
   "metadata": {
    "ExecuteTime": {
     "end_time": "2025-10-21T13:02:03.768060Z",
     "start_time": "2025-10-21T13:02:03.762432Z"
    }
   },
   "cell_type": "code",
   "source": [
    "from sklearn.decomposition import PCA\n",
    "pca=PCA(n_components=2)\n",
    "x=pca.fit_transform(x)"
   ],
   "id": "1b8dc6ec74b3671f",
   "outputs": [],
   "execution_count": 8
  },
  {
   "metadata": {},
   "cell_type": "markdown",
   "source": [
    "\n",
    "\n",
    "4 تا خوشه بساز\n",
    "\n",
    "\n",
    "Create 4 clusters\n"
   ],
   "id": "fb82d598ecf2a7e7"
  },
  {
   "metadata": {
    "ExecuteTime": {
     "end_time": "2025-10-21T13:02:06.665698Z",
     "start_time": "2025-10-21T13:02:04.927753Z"
    }
   },
   "cell_type": "code",
   "source": [
    "k=4\n",
    "model=KMeans(init='k-means++',n_clusters=k,n_init=10).fit(x)\n",
    "KMeans"
   ],
   "id": "815738254ab267d1",
   "outputs": [
    {
     "data": {
      "text/plain": [
       "sklearn.cluster._kmeans.KMeans"
      ]
     },
     "execution_count": 9,
     "metadata": {},
     "output_type": "execute_result"
    }
   ],
   "execution_count": 9
  },
  {
   "metadata": {},
   "cell_type": "markdown",
   "source": [
    "\n",
    "\n",
    "هر نقطه داده متعلق به یک خوشه خاص هست.\n",
    "\n",
    "Each data point belongs to one specific cluster.\n",
    "\n",
    "\n",
    "\n"
   ],
   "id": "61725a79bcbc7a85"
  },
  {
   "metadata": {
    "ExecuteTime": {
     "end_time": "2025-10-21T13:02:06.674616Z",
     "start_time": "2025-10-21T13:02:06.671468Z"
    }
   },
   "cell_type": "code",
   "source": [
    "labels =model.labels_\n",
    "labels"
   ],
   "id": "172a3ca0e1dfda20",
   "outputs": [
    {
     "data": {
      "text/plain": [
       "array([1, 1, 1, 1, 1, 1, 1, 1, 1, 1, 1, 1, 1, 1, 1, 1, 1, 1, 1, 1, 1, 1,\n",
       "       1, 1, 1, 1, 1, 1, 1, 1, 1, 1, 1, 1, 1, 1, 1, 1, 1, 1, 1, 1, 1, 1,\n",
       "       1, 1, 1, 1, 1, 1, 2, 2, 2, 2, 2, 2, 2, 2, 2, 2, 2, 2, 2, 2, 2, 2,\n",
       "       2, 2, 2, 2, 2, 2, 2, 2, 2, 2, 2, 2, 2, 2, 2, 2, 2, 2, 2, 2, 2, 2,\n",
       "       2, 2, 2, 2, 2, 2, 2, 2, 2, 2, 2, 2, 0, 3, 0, 3, 0, 0, 3, 0, 3, 0,\n",
       "       0, 3, 0, 3, 3, 0, 3, 0, 0, 3, 0, 3, 0, 3, 0, 0, 3, 3, 3, 0, 0, 0,\n",
       "       3, 3, 3, 0, 0, 3, 3, 0, 0, 0, 3, 0, 0, 0, 3, 3, 0, 3], dtype=int32)"
      ]
     },
     "execution_count": 10,
     "metadata": {},
     "output_type": "execute_result"
    }
   ],
   "execution_count": 10
  },
  {
   "metadata": {},
   "cell_type": "markdown",
   "source": [
    "\n",
    "مختصات هر خوشه رو برمیگرداند.\n",
    "\n",
    "It returns the coordinates of each cluster."
   ],
   "id": "709226b3f997a734"
  },
  {
   "metadata": {
    "ExecuteTime": {
     "end_time": "2025-10-21T13:02:06.694767Z",
     "start_time": "2025-10-21T13:02:06.690700Z"
    }
   },
   "cell_type": "code",
   "source": [
    "center= model.cluster_centers_\n",
    "center"
   ],
   "id": "adc82336ed06a8b",
   "outputs": [
    {
     "data": {
      "text/plain": [
       "array([[ 0.79010835,  0.155403  ],\n",
       "       [-0.79537486,  0.05590027],\n",
       "       [ 0.08864554, -0.0844795 ],\n",
       "       [ 0.60884958, -0.12030086]])"
      ]
     },
     "execution_count": 11,
     "metadata": {},
     "output_type": "execute_result"
    }
   ],
   "execution_count": 11
  },
  {
   "metadata": {},
   "cell_type": "markdown",
   "source": [
    "\n",
    "\n",
    "همون طور که ما در طبقه بندی معیار هایی برای ارزیابی داشتیم در خوشه بندی هم معیار هایی برای ارزیابی میزان عملکرد خوشه بندیمون داریم\n",
    "\n",
    "1_شاخص سلوئت\n",
    "\n",
    "2_شاخص چن\n",
    "\n",
    "3_شاخص بولدین\n",
    "\n",
    "4_شاخص اینرسی\n",
    "\n",
    "Just like we have evaluation metrics in classification, we also have metrics to assess the performance of clustering.\n",
    "\n",
    "1. Silhouette Score\n",
    "2. Calinski-Harabasz Index\n",
    "3. Davies-Bouldin Index\n",
    "4. Inertia\n"
   ],
   "id": "1ada9405395486fe"
  },
  {
   "metadata": {},
   "cell_type": "markdown",
   "source": [
    "\n",
    "\n",
    "شاخص سلوئت  به ما میگ حوشخ بندی ما چقدر تمیز و درست انجام شده مقدار نمره بالاتر و نزدیک به 1 نشون دهنده خوشه بندی بهتر است.\n",
    "در اینجا چون خوشه بندی نمره 62 رو گرفته خوشه بندی خیلی عالی نبوده و کیفیت خوشه بندی متوسط یا ضعیف بوده.\n",
    "\n",
    "The Silhouette Score tells us how clean well-separated our clustering is. A higher score, closer to 1, indicates better clustering quality.\n",
    "Here, since the clustering received a score of 62, the result is not very strong, and the clustering quality is considered moderate or weak."
   ],
   "id": "9b9dbc249c83d88f"
  },
  {
   "metadata": {
    "ExecuteTime": {
     "end_time": "2025-10-21T13:02:07.738441Z",
     "start_time": "2025-10-21T13:02:07.733944Z"
    }
   },
   "cell_type": "code",
   "source": [
    "from sklearn.metrics import silhouette_score\n",
    "silhouette_score(x, labels)"
   ],
   "id": "9359702fa46e47a7",
   "outputs": [
    {
     "data": {
      "text/plain": [
       "0.625415193907927"
      ]
     },
     "execution_count": 12,
     "metadata": {},
     "output_type": "execute_result"
    }
   ],
   "execution_count": 12
  },
  {
   "metadata": {},
   "cell_type": "markdown",
   "source": [
    "\n",
    "\n",
    "شاخص بولدین میانگین نبست فاصله بین خوشه هارو به اندازه خوشه ها اندازه گیری میکنه\n",
    "مقدار نزدیک به 0 نشون دهنده خوشه بندی بهتر و مقدار نزدیک به 1 یا بیشتر نشون دهنده خوشه بندی ضعیف هس.\n",
    "\n",
    "Davies–Bouldin Index measures the average ratio of the distance between clusters to the size of the clusters.\n",
    "A value close to 0 indicates better clustering, and a value close to 1 or higher indicates poor clustering.\n",
    "\n",
    "در اینجا خوشه بندی نمره 54 رو گرفته است که نشون دهنده کیفیت خوشه بندی متوسط هس\n",
    "\n",
    "Here, the clustering received a score of 54, which indicates a moderate clustering quality."
   ],
   "id": "1118da4a02cd79f8"
  },
  {
   "metadata": {
    "ExecuteTime": {
     "end_time": "2025-10-21T13:02:10.088670Z",
     "start_time": "2025-10-21T13:02:10.082300Z"
    }
   },
   "cell_type": "code",
   "source": [
    "from sklearn.metrics import  davies_bouldin_score\n",
    "davies_bouldin_score(x, labels)"
   ],
   "id": "19bdcb5cffc15dd6",
   "outputs": [
    {
     "data": {
      "text/plain": [
       "0.5432264907399198"
      ]
     },
     "execution_count": 13,
     "metadata": {},
     "output_type": "execute_result"
    }
   ],
   "execution_count": 13
  },
  {
   "metadata": {},
   "cell_type": "markdown",
   "source": [
    "\n",
    "\n",
    "شاخص چن در واقعه نسبت فاصله های بین خوشه رو به پراکندگی هایی که درون خوشه قرار داره رو محاسبه میکنه\n",
    "در اینجا نمره بسیار بالایی گرفته که نشون میده خوشه ها از هم فاصله دارن و باهم قاطی نشدن که این عالیه.\n",
    "\n",
    "The Calinski–Harabasz Index calculates the ratio of the distances between clusters to the dispersions within clusters\n",
    "Here, it received a very high score, which indicates that the clusters are well-separated and not mixed—this is excellent\n"
   ],
   "id": "fc4f68dbbeb91302"
  },
  {
   "metadata": {
    "ExecuteTime": {
     "end_time": "2025-10-21T13:02:11.381368Z",
     "start_time": "2025-10-21T13:02:11.377455Z"
    }
   },
   "cell_type": "code",
   "source": [
    "from sklearn.metrics import calinski_harabasz_score\n",
    "calinski_harabasz_score(x, labels)"
   ],
   "id": "913605a381c36b7",
   "outputs": [
    {
     "data": {
      "text/plain": [
       "666.970380433014"
      ]
     },
     "execution_count": 14,
     "metadata": {},
     "output_type": "execute_result"
    }
   ],
   "execution_count": 14
  },
  {
   "metadata": {},
   "cell_type": "markdown",
   "source": [
    "\n",
    "\n",
    "شاخص اینرسی در واقعه میاد مجموع مربعات فاصله های بین نقاط رو با مرکز خوشه محاسبه میکنه. این شاخص درواقع برای اندازه گیری میزان پراکندگی هست که در خوشه ها وجود داره.\n",
    "مقدار بالاتر نشون دهنده پراکندگی بیش از حد درون داده هاس و خوشه بندی ضعیف تر ولی مقدار پایین تر نشون دهنده اینکه پراکندگی درون  خوشه ها کمتره و خوشه بندی بهتره.\n",
    "دراینجا چون نمره شده 4 نشون میده پراکندگی خیلی بالاس در هر خوشه.\n",
    "\n",
    "Inertia is a metric that calculates the sum of squared distances between data points and their cluster centers. It is used to measure the amount of dispersion within clusters. A higher value indicates excessive spread among the data and weaker clustering, while a lower value suggests tighter clusters and better clustering quality. In this case, since the score is 6, it shows that the dispersion within each cluster is quite high."
   ],
   "id": "d5669226347e71"
  },
  {
   "metadata": {
    "ExecuteTime": {
     "end_time": "2025-10-21T13:02:14.479437Z",
     "start_time": "2025-10-21T13:02:14.476652Z"
    }
   },
   "cell_type": "code",
   "source": [
    "z=model.inertia_\n",
    "print(z)"
   ],
   "id": "37e35563e282eb0e",
   "outputs": [
    {
     "name": "stdout",
     "output_type": "stream",
     "text": [
      "4.297984926841806\n"
     ]
    }
   ],
   "execution_count": 15
  },
  {
   "metadata": {},
   "cell_type": "markdown",
   "source": [
    "\n",
    "بطور کلی این خوشه بندی عالی عمل نکرده البته باید درنظر بگیریم در نظر گرفتن یک معیار و ارزیابی بر اساس یک معیار فقط به معنی ضعیف بودن یا عالی بودن خوشه بندی ما نیست باید حتما حتما همه معیار هارو درنظر بگیریم و بعد ارزیابی کلی کنیم.\n",
    "\n",
    "Overall, this clustering did not perform excellently. However, it's important to remember that evaluating based on a single metric does not necessarily mean the clustering is weak or strong. We must consider **all relevant metrics** together to make a comprehensive assessment\n"
   ],
   "id": "a7f1d06b5d6c31ec"
  },
  {
   "metadata": {
    "ExecuteTime": {
     "end_time": "2025-10-21T13:02:18.124004Z",
     "start_time": "2025-10-21T13:02:18.089288Z"
    }
   },
   "cell_type": "code",
   "source": [
    "fig=plt.figure(figsize=(6,4)) # بساز ی شکل 6 در 4__Create a 6 by 4 shape\n",
    "\n",
    "color=plt.cm.Spectral(np.linspace(0,1,len(set(labels)))) # برای ایجاد آرایه ای از رنگ ها بر اسا برچسب های یکتای خوشه بندی\n",
    "\n",
    "ax=fig.add_subplot(1,1,1) # ایجاد نمودار\n",
    "\n",
    "for i, j in zip(range(len(center)),color):# ایجاد خوشه بر اسا موقعیت\n",
    "    my_members=(labels==i)# قرار گیری نقاط در هر حوشه رنگی\n",
    "    cluster=center[i]# مشخص کردن مرکز در خوشه\n",
    "\n",
    "    ax.plot(x[my_members,0],x[my_members,1],'w',markerfacecolor=j,marker='.')# مختصات نقاط داده\n",
    "\n",
    "    ax.plot(cluster[0],cluster[1],'o',markerfacecolor=j,markeredgecolor='k',markersize=6)# مختصات نقاط مرکز\n",
    "\n",
    "\n",
    "ax.set_xticks(()) #هیچ عددی نشون نده در  طول\n",
    "ax.set_yticks(())# هیچ عدی نشون نده در عرض\n",
    "ax.set_title('K_means')# بالای نمودار اینو بزن\n",
    "plt.show()# شکل رو نشونم بده"
   ],
   "id": "82a142b834d969b6",
   "outputs": [
    {
     "data": {
      "text/plain": [
       "<Figure size 600x400 with 1 Axes>"
      ],
      "image/png": "[encoded data removed]"
     },
     "metadata": {},
     "output_type": "display_data"
    }
   ],
   "execution_count": 16
  }
 ],
 "metadata": {
  "kernelspec": {
   "display_name": "Python 3",
   "language": "python",
   "name": "python3"
  },
  "language_info": {
   "codemirror_mode": {
    "name": "ipython",
    "version": 2
   },
   "file_extension": ".py",
   "mimetype": "text/x-python",
   "name": "python",
   "nbconvert_exporter": "python",
   "pygments_lexer": "ipython2",
   "version": "2.7.6"
  }
 },
 "nbformat": 4,
 "nbformat_minor": 5
}
