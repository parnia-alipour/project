{
 "cells": [
  {
   "metadata": {},
   "cell_type": "markdown",
   "source": "# Hierarchy-( Scipy )",
   "id": "2734c1401d5bbc63"
  },
  {
   "metadata": {},
   "cell_type": "markdown",
   "source": [
    "\n",
    "\n",
    "همانطور که الگوریتم در اسکیت لرن وجود دارد در سای پای هم وجود دارد دراینجا ما با همون داده ها از طریق سای پای الگوریتم رو اجرا میکنیم.\n",
    "توجه داشته باشید خود اسکیت لرن از سای پای استفاده میکنه اما به دلیل جامع بودنش نسبت به سای پای گزینه کامل تری برای یادگیری ماشین و پیاده یازی الگوریتم است.\n",
    "\n",
    "Just as the algorithm exists in Scikit-learn, it also exists in SciPy. Here, we run the algorithm using SciPy with the same dataset.\n",
    "Note that Scikit-learn itself uses SciPy, but due to its comprehensiveness compared to SciPy, it is a more complete option for machine learning and algorithm implementation."
   ],
   "id": "4b26cc9d40b52383"
  },
  {
   "metadata": {},
   "cell_type": "markdown",
   "source": [
    "\n",
    "\n",
    " توجه توضیح یسری از سلول ها اگر وجود نداره در فایل\n",
    "\n",
    "music.ipynb\n",
    " هست\n",
    "\n",
    "\n",
    " Note: Some of the explanations or cells may be missing here, but they are available in the file `music.ipynb`."
   ],
   "id": "49b6391e2cb7004e"
  },
  {
   "cell_type": "code",
   "id": "initial_id",
   "metadata": {
    "collapsed": true,
    "ExecuteTime": {
     "end_time": "2025-10-13T08:07:23.742024Z",
     "start_time": "2025-10-13T08:07:23.739151Z"
    }
   },
   "source": [
    "import pandas as pd\n",
    "import numpy as np\n",
    "import matplotlib.pyplot as plt\n",
    "import matplotlib.pylab as pylab\n",
    "import scipy\n",
    "from scipy.spatial import distance_matrix\n",
    "from sklearn.ensemble import RandomForestClassifier\n",
    "\n"
   ],
   "outputs": [],
   "execution_count": 114
  },
  {
   "metadata": {},
   "cell_type": "markdown",
   "source": "",
   "id": "4848c8bab04715da"
  },
  {
   "metadata": {
    "ExecuteTime": {
     "end_time": "2025-10-13T08:07:24.109516Z",
     "start_time": "2025-10-13T08:07:24.096321Z"
    }
   },
   "cell_type": "code",
   "source": [
    "x=pd.read_csv('marketing_campaign.csv')\n",
    "x[:5]"
   ],
   "id": "ee1d7f3c3e22ae0a",
   "outputs": [
    {
     "data": {
      "text/plain": [
       "     ID  Year_Birth   Education Marital_Status   Income  Kidhome  Teenhome  \\\n",
       "0  5524        1957  Graduation         Single  58138.0        0         0   \n",
       "1  2174        1954  Graduation         Single  46344.0        1         1   \n",
       "2  4141        1965  Graduation       Together  71613.0        0         0   \n",
       "3  6182        1984  Graduation       Together  26646.0        1         0   \n",
       "4  5324        1981         PhD        Married  58293.0        1         0   \n",
       "\n",
       "   Recency  MntWines  MntFruits  ...  NumWebVisitsMonth  AcceptedCmp3  \\\n",
       "0       58       635         88  ...                  7             0   \n",
       "1       38        11          1  ...                  5             0   \n",
       "2       26       426         49  ...                  4             0   \n",
       "3       26        11          4  ...                  6             0   \n",
       "4       94       173         43  ...                  5             0   \n",
       "\n",
       "   AcceptedCmp4  AcceptedCmp5  AcceptedCmp1  AcceptedCmp2  Complain  \\\n",
       "0             0             0             0             0         0   \n",
       "1             0             0             0             0         0   \n",
       "2             0             0             0             0         0   \n",
       "3             0             0             0             0         0   \n",
       "4             0             0             0             0         0   \n",
       "\n",
       "   Z_CostContact  Z_Revenue  Response  \n",
       "0              3         11         1  \n",
       "1              3         11         0  \n",
       "2              3         11         0  \n",
       "3              3         11         0  \n",
       "4              3         11         0  \n",
       "\n",
       "[5 rows x 28 columns]"
      ],
      "text/html": [
       "<div>\n",
       "<style scoped>\n",
       "    .dataframe tbody tr th:only-of-type {\n",
       "        vertical-align: middle;\n",
       "    }\n",
       "\n",
       "    .dataframe tbody tr th {\n",
       "        vertical-align: top;\n",
       "    }\n",
       "\n",
       "    .dataframe thead th {\n",
       "        text-align: right;\n",
       "    }\n",
       "</style>\n",
       "<table border=\"1\" class=\"dataframe\">\n",
       "  <thead>\n",
       "    <tr style=\"text-align: right;\">\n",
       "      <th></th>\n",
       "      <th>ID</th>\n",
       "      <th>Year_Birth</th>\n",
       "      <th>Education</th>\n",
       "      <th>Marital_Status</th>\n",
       "      <th>Income</th>\n",
       "      <th>Kidhome</th>\n",
       "      <th>Teenhome</th>\n",
       "      <th>Recency</th>\n",
       "      <th>MntWines</th>\n",
       "      <th>MntFruits</th>\n",
       "      <th>...</th>\n",
       "      <th>NumWebVisitsMonth</th>\n",
       "      <th>AcceptedCmp3</th>\n",
       "      <th>AcceptedCmp4</th>\n",
       "      <th>AcceptedCmp5</th>\n",
       "      <th>AcceptedCmp1</th>\n",
       "      <th>AcceptedCmp2</th>\n",
       "      <th>Complain</th>\n",
       "      <th>Z_CostContact</th>\n",
       "      <th>Z_Revenue</th>\n",
       "      <th>Response</th>\n",
       "    </tr>\n",
       "  </thead>\n",
       "  <tbody>\n",
       "    <tr>\n",
       "      <th>0</th>\n",
       "      <td>5524</td>\n",
       "      <td>1957</td>\n",
       "      <td>Graduation</td>\n",
       "      <td>Single</td>\n",
       "      <td>58138.0</td>\n",
       "      <td>0</td>\n",
       "      <td>0</td>\n",
       "      <td>58</td>\n",
       "      <td>635</td>\n",
       "      <td>88</td>\n",
       "      <td>...</td>\n",
       "      <td>7</td>\n",
       "      <td>0</td>\n",
       "      <td>0</td>\n",
       "      <td>0</td>\n",
       "      <td>0</td>\n",
       "      <td>0</td>\n",
       "      <td>0</td>\n",
       "      <td>3</td>\n",
       "      <td>11</td>\n",
       "      <td>1</td>\n",
       "    </tr>\n",
       "    <tr>\n",
       "      <th>1</th>\n",
       "      <td>2174</td>\n",
       "      <td>1954</td>\n",
       "      <td>Graduation</td>\n",
       "      <td>Single</td>\n",
       "      <td>46344.0</td>\n",
       "      <td>1</td>\n",
       "      <td>1</td>\n",
       "      <td>38</td>\n",
       "      <td>11</td>\n",
       "      <td>1</td>\n",
       "      <td>...</td>\n",
       "      <td>5</td>\n",
       "      <td>0</td>\n",
       "      <td>0</td>\n",
       "      <td>0</td>\n",
       "      <td>0</td>\n",
       "      <td>0</td>\n",
       "      <td>0</td>\n",
       "      <td>3</td>\n",
       "      <td>11</td>\n",
       "      <td>0</td>\n",
       "    </tr>\n",
       "    <tr>\n",
       "      <th>2</th>\n",
       "      <td>4141</td>\n",
       "      <td>1965</td>\n",
       "      <td>Graduation</td>\n",
       "      <td>Together</td>\n",
       "      <td>71613.0</td>\n",
       "      <td>0</td>\n",
       "      <td>0</td>\n",
       "      <td>26</td>\n",
       "      <td>426</td>\n",
       "      <td>49</td>\n",
       "      <td>...</td>\n",
       "      <td>4</td>\n",
       "      <td>0</td>\n",
       "      <td>0</td>\n",
       "      <td>0</td>\n",
       "      <td>0</td>\n",
       "      <td>0</td>\n",
       "      <td>0</td>\n",
       "      <td>3</td>\n",
       "      <td>11</td>\n",
       "      <td>0</td>\n",
       "    </tr>\n",
       "    <tr>\n",
       "      <th>3</th>\n",
       "      <td>6182</td>\n",
       "      <td>1984</td>\n",
       "      <td>Graduation</td>\n",
       "      <td>Together</td>\n",
       "      <td>26646.0</td>\n",
       "      <td>1</td>\n",
       "      <td>0</td>\n",
       "      <td>26</td>\n",
       "      <td>11</td>\n",
       "      <td>4</td>\n",
       "      <td>...</td>\n",
       "      <td>6</td>\n",
       "      <td>0</td>\n",
       "      <td>0</td>\n",
       "      <td>0</td>\n",
       "      <td>0</td>\n",
       "      <td>0</td>\n",
       "      <td>0</td>\n",
       "      <td>3</td>\n",
       "      <td>11</td>\n",
       "      <td>0</td>\n",
       "    </tr>\n",
       "    <tr>\n",
       "      <th>4</th>\n",
       "      <td>5324</td>\n",
       "      <td>1981</td>\n",
       "      <td>PhD</td>\n",
       "      <td>Married</td>\n",
       "      <td>58293.0</td>\n",
       "      <td>1</td>\n",
       "      <td>0</td>\n",
       "      <td>94</td>\n",
       "      <td>173</td>\n",
       "      <td>43</td>\n",
       "      <td>...</td>\n",
       "      <td>5</td>\n",
       "      <td>0</td>\n",
       "      <td>0</td>\n",
       "      <td>0</td>\n",
       "      <td>0</td>\n",
       "      <td>0</td>\n",
       "      <td>0</td>\n",
       "      <td>3</td>\n",
       "      <td>11</td>\n",
       "      <td>0</td>\n",
       "    </tr>\n",
       "  </tbody>\n",
       "</table>\n",
       "<p>5 rows × 28 columns</p>\n",
       "</div>"
      ]
     },
     "execution_count": 115,
     "metadata": {},
     "output_type": "execute_result"
    }
   ],
   "execution_count": 115
  },
  {
   "metadata": {
    "ExecuteTime": {
     "end_time": "2025-10-13T08:07:24.509428Z",
     "start_time": "2025-10-13T08:07:24.504839Z"
    }
   },
   "cell_type": "code",
   "source": "x.isnull().sum()",
   "id": "f4969469b0a13cda",
   "outputs": [
    {
     "data": {
      "text/plain": [
       "ID                      0\n",
       "Year_Birth              0\n",
       "Education               0\n",
       "Marital_Status          0\n",
       "Income                 24\n",
       "Kidhome                 0\n",
       "Teenhome                0\n",
       "Recency                 0\n",
       "MntWines                0\n",
       "MntFruits               0\n",
       "MntMeatProducts         0\n",
       "MntFishProducts         0\n",
       "MntSweetProducts        0\n",
       "MntGoldProds            0\n",
       "NumDealsPurchases       0\n",
       "NumWebPurchases         0\n",
       "NumCatalogPurchases     0\n",
       "NumStorePurchases       0\n",
       "NumWebVisitsMonth       0\n",
       "AcceptedCmp3            0\n",
       "AcceptedCmp4            0\n",
       "AcceptedCmp5            0\n",
       "AcceptedCmp1            0\n",
       "AcceptedCmp2            0\n",
       "Complain                0\n",
       "Z_CostContact           0\n",
       "Z_Revenue               0\n",
       "Response                0\n",
       "dtype: int64"
      ]
     },
     "execution_count": 116,
     "metadata": {},
     "output_type": "execute_result"
    }
   ],
   "execution_count": 116
  },
  {
   "metadata": {
    "ExecuteTime": {
     "end_time": "2025-10-13T08:07:24.680694Z",
     "start_time": "2025-10-13T08:07:24.677205Z"
    }
   },
   "cell_type": "code",
   "source": [
    "x=x.dropna()\n",
    "x=x.reset_index(drop=True)"
   ],
   "id": "bf34fbc91dbca62c",
   "outputs": [],
   "execution_count": 117
  },
  {
   "metadata": {
    "ExecuteTime": {
     "end_time": "2025-10-13T08:07:24.748973Z",
     "start_time": "2025-10-13T08:07:24.744352Z"
    }
   },
   "cell_type": "code",
   "source": [
    "from sklearn.preprocessing import LabelEncoder\n",
    "\n",
    "lb=LabelEncoder()\n",
    "x['Education']=lb.fit_transform(x['Education'])\n",
    "\n",
    "\n",
    "lb2=LabelEncoder()\n",
    "x['Marital_Status']=lb2.fit_transform(x['Marital_Status'])"
   ],
   "id": "f479d84801bbc4fd",
   "outputs": [],
   "execution_count": 118
  },
  {
   "metadata": {
    "ExecuteTime": {
     "end_time": "2025-10-13T08:07:25.156284Z",
     "start_time": "2025-10-13T08:07:25.151226Z"
    }
   },
   "cell_type": "code",
   "source": [
    "y=x['Response'].values\n",
    "y"
   ],
   "id": "e5f81ad59e22014f",
   "outputs": [
    {
     "data": {
      "text/plain": [
       "array([1, 0, 0, ..., 0, 0, 1], shape=(2216,))"
      ]
     },
     "execution_count": 119,
     "metadata": {},
     "output_type": "execute_result"
    }
   ],
   "execution_count": 119
  },
  {
   "metadata": {
    "ExecuteTime": {
     "end_time": "2025-10-13T08:07:25.227684Z",
     "start_time": "2025-10-13T08:07:25.225490Z"
    }
   },
   "cell_type": "code",
   "source": "#",
   "id": "88d8ea632d99fd0d",
   "outputs": [],
   "execution_count": 120
  },
  {
   "metadata": {
    "ExecuteTime": {
     "end_time": "2025-10-13T08:07:25.259443Z",
     "start_time": "2025-10-13T08:07:25.253810Z"
    }
   },
   "cell_type": "code",
   "source": [
    "from sklearn.preprocessing import StandardScaler\n",
    "sc=StandardScaler()\n",
    "x=sc.fit_transform(x)"
   ],
   "id": "a08b39190793e9d3",
   "outputs": [],
   "execution_count": 121
  },
  {
   "metadata": {},
   "cell_type": "markdown",
   "source": [
    "\n",
    "این قطعه کد در واقع میاد ارایه دو بعدی رو تولید میکنه(ماتریس) که درون اون تمام مقادیر 0 هستن به وسیله همین ارایه ها مقادیر محاسبه شده ما در اونجا میرن و ذخیره میشن\n",
    "\n",
    "This piece of code actually creates a 2D array in which all the values are 0. Using this array, our computed values go there and get stored"
   ],
   "id": "a26f9c4cf5a0dbed"
  },
  {
   "metadata": {
    "ExecuteTime": {
     "end_time": "2025-10-13T08:07:43.352361Z",
     "start_time": "2025-10-13T08:07:25.298363Z"
    }
   },
   "cell_type": "code",
   "source": [
    "lg=x.shape[0]\n",
    "td=np.zeros([lg,lg])\n",
    "for i in range(lg):\n",
    "    for j in range(lg):\n",
    "        td[i,j]=scipy.spatial.distance.euclidean(x[i],x[j])\n",
    "td"
   ],
   "id": "3145fa14a0fabdf2",
   "outputs": [
    {
     "data": {
      "text/plain": [
       "array([[0.        , 8.02887542, 5.81836402, ..., 8.13757698, 6.03188176,\n",
       "        7.30109017],\n",
       "       [8.02887542, 0.        , 5.58455473, ..., 7.63547576, 5.38971929,\n",
       "        4.35217102],\n",
       "       [5.81836402, 5.58455473, 0.        , ..., 6.42929283, 3.10228282,\n",
       "        6.46794073],\n",
       "       ...,\n",
       "       [8.13757698, 7.63547576, 6.42929283, ..., 0.        , 6.95483671,\n",
       "        7.71817401],\n",
       "       [6.03188176, 5.38971929, 3.10228282, ..., 6.95483671, 0.        ,\n",
       "        5.64815126],\n",
       "       [7.30109017, 4.35217102, 6.46794073, ..., 7.71817401, 5.64815126,\n",
       "        0.        ]], shape=(2216, 2216))"
      ]
     },
     "execution_count": 122,
     "metadata": {},
     "output_type": "execute_result"
    }
   ],
   "execution_count": 122
  },
  {
   "metadata": {},
   "cell_type": "markdown",
   "source": [
    "\n",
    "برای اینکه با الگوریتم سلسله مراتب کار کنیم و عملیات لینکیج رو انجام بدیم در آن , باید حتما حتما داده ما یک داده یک بعدی فشرده باشه .\n",
    "چون در سلول بالا داده رو ب یک مارتیس 2 بعدی تبدیل کردیم, سلسله مراتب نمیتوانست نتایحج خوبی به ما بدهد.\n",
    "به همین خاطر, ما از ماژول و معیار زیر استفاده کردیم برای فشرده سازی داده 2 بعدی و تبدیل آن به یک ارایه 1 بعدی.\n",
    "\n",
    "To apply hierarchical algorithms and perform linkage operations, it is essential that our data be a compressed one-dimensional array.\n",
    "Since the data in the previous cell was transformed into a two-dimensional matrix, the hierarchical method could not yield satisfactory results.\n",
    "Therefore, we used the following module and metric to compress the 2D data and convert it into a 1D array."
   ],
   "id": "2d04f45ee223ecdf"
  },
  {
   "metadata": {
    "ExecuteTime": {
     "end_time": "2025-10-13T08:07:43.442976Z",
     "start_time": "2025-10-13T08:07:43.412355Z"
    }
   },
   "cell_type": "code",
   "source": [
    "from scipy.spatial.distance import  squareform\n",
    "condensed_td = squareform(td)\n"
   ],
   "id": "6001389098af1603",
   "outputs": [],
   "execution_count": 123
  },
  {
   "metadata": {
    "ExecuteTime": {
     "end_time": "2025-10-13T08:07:43.869141Z",
     "start_time": "2025-10-13T08:07:43.792121Z"
    }
   },
   "cell_type": "code",
   "source": [
    "from scipy.cluster import hierarchy\n",
    "\n",
    "model=hierarchy.linkage(condensed_td,'ward')\n",
    "model"
   ],
   "id": "5fa1cd557238cb70",
   "outputs": [
    {
     "data": {
      "text/plain": [
       "array([[5.00000000e+01, 7.19000000e+02, 9.23462496e-04, 2.00000000e+00],\n",
       "       [3.56000000e+02, 6.61000000e+02, 2.46256666e-03, 2.00000000e+00],\n",
       "       [6.45000000e+02, 1.61300000e+03, 2.46256666e-03, 2.00000000e+00],\n",
       "       ...,\n",
       "       [4.40000000e+03, 4.42500000e+03, 7.11765610e+01, 5.43000000e+02],\n",
       "       [4.42400000e+03, 4.42800000e+03, 8.88476554e+01, 1.12400000e+03],\n",
       "       [4.42700000e+03, 4.42900000e+03, 1.35260150e+02, 2.21600000e+03]],\n",
       "      shape=(2215, 4))"
      ]
     },
     "execution_count": 124,
     "metadata": {},
     "output_type": "execute_result"
    }
   ],
   "execution_count": 124
  },
  {
   "metadata": {},
   "cell_type": "markdown",
   "source": [
    "<div/> <\"div dir=\"rtl>\n",
    "در اینجا الگوریتم رو پیاده سازی  کردیم  و هر داده که براساس فاصله اقلیدوسی بین نقاط خوشه فاصلش تا مرکز خوشه آن کمتر از 4 هست در یک خوشه گذاشته میشن.\n",
    "\n",
    "\n",
    "Here, we implemented the algorithm, and each data point whose Euclidean distance to a cluster center is less than 4 is placed in a cluster."
   ],
   "id": "22e9e6fb580be00d"
  },
  {
   "metadata": {
    "ExecuteTime": {
     "end_time": "2025-10-13T08:07:43.911386Z",
     "start_time": "2025-10-13T08:07:43.906578Z"
    }
   },
   "cell_type": "code",
   "source": [
    "from scipy.cluster.hierarchy import fcluster\n",
    "cluster=4\n",
    "model1=fcluster(model,cluster,criterion='distance')\n",
    "model1"
   ],
   "id": "a45bcdbf791e0a9c",
   "outputs": [
    {
     "data": {
      "text/plain": [
       "array([664, 175, 739, ..., 241, 392, 215], shape=(2216,), dtype=int32)"
      ]
     },
     "execution_count": 125,
     "metadata": {},
     "output_type": "execute_result"
    }
   ],
   "execution_count": 125
  },
  {
   "metadata": {},
   "cell_type": "markdown",
   "source": [
    "\n",
    "\n",
    "در این قسمت شکل دندوگرام ما رسم شده است. خط آبی در اینجا دو خوشه جدا از هم مارا بهم وصل میکنه ونشون دهنده ادقام ویژگی های ما است .\n",
    "\n",
    "In this section, our dendrogram is plotted. The blue line here connects two separate clusters and indicates the merging of our features."
   ],
   "id": "9e7d4b045c8e8cab"
  },
  {
   "metadata": {
    "ExecuteTime": {
     "end_time": "2025-10-13T08:07:47.738642Z",
     "start_time": "2025-10-13T08:07:43.993061Z"
    }
   },
   "cell_type": "code",
   "source": "dendo=hierarchy.dendrogram(model)",
   "id": "b69d7d7c1fd056b8",
   "outputs": [
    {
     "data": {
      "text/plain": [
       "<Figure size 640x480 with 1 Axes>"
      ],
      "image/png": "[encoded data removed]"
     },
     "metadata": {},
     "output_type": "display_data"
    }
   ],
   "execution_count": 126
  }
 ],
 "metadata": {
  "kernelspec": {
   "display_name": "Python 3",
   "language": "python",
   "name": "python3"
  },
  "language_info": {
   "codemirror_mode": {
    "name": "ipython",
    "version": 2
   },
   "file_extension": ".py",
   "mimetype": "text/x-python",
   "name": "python",
   "nbconvert_exporter": "python",
   "pygments_lexer": "ipython2",
   "version": "2.7.6"
  }
 },
 "nbformat": 4,
 "nbformat_minor": 5
}
